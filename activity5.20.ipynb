import numpy as np 
arrayA=np.array([1,2,3,4])
arrayB=np.array([5,6,7,8])
arrCombo=np.concatenate ((arrayA, arrayB))
print("Print arrCombo . . ." arrCombo)
